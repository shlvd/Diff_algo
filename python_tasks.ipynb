{
 "cells": [
  {
   "cell_type": "code",
   "execution_count": 2,
   "metadata": {},
   "outputs": [
    {
     "name": "stdout",
     "output_type": "stream",
     "text": [
      "1\n",
      "3\n",
      "[1, 3]\n"
     ]
    }
   ],
   "source": [
    "#1 print list elements less then 5\n",
    "a = [1,3,6,7,8,9]\n",
    "for elem in a:\n",
    "    if elem < 5:\n",
    "        print(elem)\n",
    "        \n",
    "print(list(filter(lambda elem: elem < 5, a)))"
   ]
  },
  {
   "cell_type": "code",
   "execution_count": 3,
   "metadata": {},
   "outputs": [
    {
     "name": "stdout",
     "output_type": "stream",
     "text": [
      "[1, 1, 2, 3, 5, 8, 13]\n",
      "[1, 1, 2, 3, 5, 8, 13]\n",
      "[1, 1, 2, 3, 5, 8, 13]\n",
      "[1, 2, 3, 5, 8, 13]\n"
     ]
    }
   ],
   "source": [
    "#2 return common elements in 2 lists\n",
    "a = [1, 1, 2, 3, 5, 8, 13, 21, 34, 55, 89];\n",
    "b = [1, 2, 3, 4, 5, 6, 7, 8, 9, 10, 11, 12, 13]\n",
    "\n",
    "result = []\n",
    "for elem in a:\n",
    "    if elem in b:\n",
    "        result.append(elem)\n",
    "print(result)        \n",
    "\n",
    "print(list(filter(lambda elem: elem in b, a)))\n",
    "\n",
    "print([elem for elem in a if elem in b])\n",
    "\n",
    "print(list(set(a) & set(b)))"
   ]
  },
  {
   "cell_type": "code",
   "execution_count": 4,
   "metadata": {},
   "outputs": [
    {
     "name": "stdout",
     "output_type": "stream",
     "text": [
      "{0: 0, 2: 1, 1: 2, 4: 3, 3: 4}\n",
      "{3: 4, 4: 3, 1: 2, 2: 1, 0: 0}\n"
     ]
    }
   ],
   "source": [
    "#3 sort dict by value ascend/descend\n",
    "import operator\n",
    "d = {1: 2, 3: 4, 4: 3, 2: 1, 0: 0}\n",
    "\n",
    "print(dict(sorted(d.items(), key=operator.itemgetter(1))))\n",
    "\n",
    "print(dict(sorted(d.items(), key=operator.itemgetter(1), reverse=True)))"
   ]
  },
  {
   "cell_type": "code",
   "execution_count": 8,
   "metadata": {},
   "outputs": [
    {
     "name": "stdout",
     "output_type": "stream",
     "text": [
      "{1: 10, 2: 20, 3: 30, 4: 40, 5: 50, 6: 60}\n",
      "{1: 10, 2: 20, 3: 30, 4: 40, 5: 50, 6: 60}\n"
     ]
    }
   ],
   "source": [
    "#4 merge dicts\n",
    "dict_a = {1:10, 2:20}\n",
    "dict_b = {3:30, 4:40}\n",
    "dict_c = {5:50, 6:60}\n",
    "\n",
    "result = {}\n",
    "for d in (dict_a, dict_b, dict_c):\n",
    "    result.update(d)\n",
    "print(result)\n",
    "\n",
    "print({**dict_a, **dict_b, **dict_c})"
   ]
  },
  {
   "cell_type": "code",
   "execution_count": 10,
   "metadata": {},
   "outputs": [
    {
     "name": "stdout",
     "output_type": "stream",
     "text": [
      "['b', 'e', 'c']\n",
      "['b', 'e', 'c']\n"
     ]
    }
   ],
   "source": [
    "#5 top 3 keys with the biggest values in dict\n",
    "my_dict = {'a':500, 'b':5874, 'c': 560,'d':400, 'e':5874, 'f': 20}\n",
    "\n",
    "print(sorted(my_dict, key=my_dict.get, reverse=True)[:3])\n",
    "\n",
    "from heapq import nlargest\n",
    "print(nlargest(3, my_dict, key=my_dict.get))"
   ]
  },
  {
   "cell_type": "code",
   "execution_count": 16,
   "metadata": {
    "scrolled": true
   },
   "outputs": [
    {
     "name": "stdout",
     "output_type": "stream",
     "text": [
      "2748\n"
     ]
    }
   ],
   "source": [
    "#6 convert str to int\n",
    "print(int('ABC', 16))"
   ]
  },
  {
   "cell_type": "code",
   "execution_count": 18,
   "metadata": {},
   "outputs": [
    {
     "name": "stdout",
     "output_type": "stream",
     "text": [
      "[1]\n",
      "[1, 1]\n",
      "[1, 2, 1]\n",
      "[1, 3, 3, 1]\n",
      "[1, 4, 6, 4, 1]\n"
     ]
    }
   ],
   "source": [
    "#7 Pascal's triangle\n",
    "def pascal_triangle(n):\n",
    "   row = [1]\n",
    "   y = [0]\n",
    "   for x in range(max(n, 0)):\n",
    "      print(row)\n",
    "      row = [left + right for left, right in zip(row + y, y + row)]\n",
    "   \n",
    "pascal_triangle(5) "
   ]
  },
  {
   "cell_type": "code",
   "execution_count": 23,
   "metadata": {},
   "outputs": [
    {
     "name": "stdout",
     "output_type": "stream",
     "text": [
      "False\n",
      "True\n"
     ]
    }
   ],
   "source": [
    "#8 is palindrome?\n",
    "def is_palindrome(string):\n",
    "    return string == ''.join(reversed(string))\n",
    "\n",
    "print(is_palindrome('weaw'))\n",
    "\n",
    "def is_palindrome(string):\n",
    "    return string == string[::-1]\n",
    "\n",
    "print(is_palindrome('coloc'))"
   ]
  },
  {
   "cell_type": "code",
   "execution_count": 28,
   "metadata": {},
   "outputs": [
    {
     "name": "stdout",
     "output_type": "stream",
     "text": [
      "6:10:37:43\n"
     ]
    }
   ],
   "source": [
    "#9 convert seconds day:hour:min:sec\n",
    "def convert(seconds):\n",
    "    days = seconds // (24 * 3600)\n",
    "    seconds %= 24 * 3600\n",
    "    hours = seconds // 3600\n",
    "    seconds %= 3600\n",
    "    minutes = seconds // 60\n",
    "    seconds %= 60\n",
    "    print(f'{days}:{hours}:{minutes}:{seconds}')\n",
    "\n",
    "convert(556663)"
   ]
  },
  {
   "cell_type": "code",
   "execution_count": 29,
   "metadata": {},
   "outputs": [
    {
     "name": "stdout",
     "output_type": "stream",
     "text": [
      "Enter numbers: 1,3,4,5,6\n",
      "List: [1, 3, 4, 5, 6]\n",
      "Tuple: (1, 3, 4, 5, 6)\n"
     ]
    }
   ],
   "source": [
    "#10 comma separated sequence into list and tuple\n",
    "values = input('Enter numbers: ')\n",
    "ints_as_strings = values.split(',')\n",
    "ints = map(int, ints_as_strings)\n",
    "lst = list(ints)\n",
    "tup = tuple(lst)\n",
    "print('List:', lst)\n",
    "print('Tuple:', tup)"
   ]
  },
  {
   "cell_type": "code",
   "execution_count": 31,
   "metadata": {},
   "outputs": [
    {
     "name": "stdout",
     "output_type": "stream",
     "text": [
      "py\n"
     ]
    }
   ],
   "source": [
    "#11 input file name --> extension\n",
    "def get_extension(filename):\n",
    "    filename_parts = filename.split('.')\n",
    "    if len(filename_parts) < 2: \n",
    "        raise ValueError('the file has no extension')\n",
    "    first, *middle, last = filename_parts\n",
    "    if not last or not first and not middle:\n",
    "        raise ValueError('the file has no extension')\n",
    "    return filename_parts[-1]\n",
    "\n",
    "print(get_extension('abc.py'))\n",
    "#print(get_extension('abc')) \n",
    "#print(get_extension('.abc'))  \n",
    "#print(get_extension('.abc.def.'))  "
   ]
  },
  {
   "cell_type": "code",
   "execution_count": 35,
   "metadata": {},
   "outputs": [
    {
     "name": "stdout",
     "output_type": "stream",
     "text": [
      "246\n"
     ]
    }
   ],
   "source": [
    "#12 n --> n + nn + nnn\n",
    "def solve(n):\n",
    "    n1 = n\n",
    "    n2 = int(str(n) * 2)\n",
    "    n3 = int(str(n) * 3)\n",
    "    print(n1 + n2 + n3)\n",
    "\n",
    "solve(2)"
   ]
  },
  {
   "cell_type": "code",
   "execution_count": 36,
   "metadata": {},
   "outputs": [
    {
     "name": "stdout",
     "output_type": "stream",
     "text": [
      "{'White', 'Black'}\n"
     ]
    }
   ],
   "source": [
    "#13 set diff\n",
    "set_1 = set(['White', 'Black', 'Red'])\n",
    "set_2 = set(['Red', 'Green'])\n",
    "\n",
    "print(set_1 - set_2)"
   ]
  },
  {
   "cell_type": "code",
   "execution_count": 39,
   "metadata": {},
   "outputs": [
    {
     "name": "stdout",
     "output_type": "stream",
     "text": [
      "['adult.data.csv', 'assignment01_adult_pandas.ipynb', 'DIDL_1.ipynb', 'Iris.csv', 'null_value_table.ipynb', 'Pandas1.ipynb', 'Untitled.ipynb']\n"
     ]
    }
   ],
   "source": [
    "#14 file list in given dir\n",
    "from os import listdir\n",
    "from os.path import isfile, join\n",
    "files = [f for f in listdir('C:/Users/Svitlana/Python Train') if isfile(join('C:/Users/Svitlana/Python Train', f))]\n",
    "print(files)"
   ]
  },
  {
   "cell_type": "code",
   "execution_count": 41,
   "metadata": {},
   "outputs": [
    {
     "name": "stdout",
     "output_type": "stream",
     "text": [
      "6\n"
     ]
    }
   ],
   "source": [
    "#15 sum digits of a number\n",
    "def sum_digits(num):\n",
    "    digits = [int(d) for d in str(num)]\n",
    "    return sum(digits)\n",
    "\n",
    "print(sum_digits(123))"
   ]
  },
  {
   "cell_type": "code",
   "execution_count": 42,
   "metadata": {},
   "outputs": [
    {
     "data": {
      "text/plain": [
       "3"
      ]
     },
     "execution_count": 42,
     "metadata": {},
     "output_type": "execute_result"
    }
   ],
   "source": [
    "#16 count symbol occurences in string\n",
    "string = 'Python bla bla blah'\n",
    "string.count('l')"
   ]
  },
  {
   "cell_type": "code",
   "execution_count": 44,
   "metadata": {},
   "outputs": [
    {
     "name": "stdout",
     "output_type": "stream",
     "text": [
      "[45, 60, 105]\n"
     ]
    }
   ],
   "source": [
    "#17 print numbers div by 15\n",
    "nums = [45, 55, 60, 37, 100, 105, 220]\n",
    "result = list(filter(lambda x: not x % 15, nums))\n",
    "print(result)"
   ]
  },
  {
   "cell_type": "code",
   "execution_count": 47,
   "metadata": {},
   "outputs": [
    {
     "data": {
      "text/plain": [
       "False"
      ]
     },
     "execution_count": 47,
     "metadata": {},
     "output_type": "execute_result"
    }
   ],
   "source": [
    "#18 check unique numbers\n",
    "def all_unique(numbers):\n",
    "    return len(numbers) == len(set(numbers))\n",
    "all_unique([1,2,2])"
   ]
  },
  {
   "cell_type": "code",
   "execution_count": 51,
   "metadata": {},
   "outputs": [
    {
     "name": "stdout",
     "output_type": "stream",
     "text": [
      "amet ipsummm\n"
     ]
    }
   ],
   "source": [
    "#19 print the longest and most common word in text\n",
    "import collections\n",
    "\n",
    "text = 'loremm ipsummm dolor sit amet amet amet'\n",
    "words = text.split()\n",
    "counter = collections.Counter(words)\n",
    "most_common, occurrences = counter.most_common()[0]\n",
    "\n",
    "longest = max(words, key=len)\n",
    "\n",
    "print(most_common, longest)"
   ]
  },
  {
   "cell_type": "code",
   "execution_count": null,
   "metadata": {},
   "outputs": [],
   "source": []
  }
 ],
 "metadata": {
  "kernelspec": {
   "display_name": "Python 3",
   "language": "python",
   "name": "python3"
  },
  "language_info": {
   "codemirror_mode": {
    "name": "ipython",
    "version": 3
   },
   "file_extension": ".py",
   "mimetype": "text/x-python",
   "name": "python",
   "nbconvert_exporter": "python",
   "pygments_lexer": "ipython3",
   "version": "3.7.3"
  }
 },
 "nbformat": 4,
 "nbformat_minor": 2
}
