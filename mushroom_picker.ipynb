{
 "cells": [
  {
   "cell_type": "code",
   "execution_count": 6,
   "metadata": {},
   "outputs": [],
   "source": [
    "def prefix_sums(A):\n",
    "    '''\n",
    "    O(n) complexity\n",
    "    '''\n",
    "    n = len(A)\n",
    "    P = [0] * (n + 1)\n",
    "    for k in range(1, n + 1):\n",
    "        P[k] = P[k - 1] + A[k - 1]\n",
    "    return P"
   ]
  },
  {
   "cell_type": "code",
   "execution_count": 9,
   "metadata": {},
   "outputs": [],
   "source": [
    "def count_total(P, x, y):\n",
    "    return P[y + 1] - P[x]"
   ]
  },
  {
   "cell_type": "code",
   "execution_count": 7,
   "metadata": {},
   "outputs": [],
   "source": [
    "def mushroom_picker(A, k, m):\n",
    "    n = len(A)\n",
    "    result = 0\n",
    "    pref = prefix_sums(A)\n",
    "    for p in range(min(m, k) + 1):\n",
    "        left_pos = k - p\n",
    "        right_pos = min(n - 1, max(k, k + m - 2 * p))\n",
    "        result = max(result, count_total(pref, left_pos, right_pos))\n",
    "    for p in range(min(m + 1, n - k)):\n",
    "        right_pos = k + p\n",
    "        left_pos = max(0, min(k, k - (m - 2 * p)))\n",
    "        result = max(result, count_total(pref, left_pos, right_pos))\n",
    "    return result"
   ]
  },
  {
   "cell_type": "code",
   "execution_count": 10,
   "metadata": {},
   "outputs": [
    {
     "data": {
      "text/plain": [
       "25"
      ]
     },
     "execution_count": 10,
     "metadata": {},
     "output_type": "execute_result"
    }
   ],
   "source": [
    "A = [2,3,7,5,1,3,9]\n",
    "res = mushroom_picker(A,4,6)\n",
    "res"
   ]
  }
 ],
 "metadata": {
  "kernelspec": {
   "display_name": "Python 3",
   "language": "python",
   "name": "python3"
  },
  "language_info": {
   "codemirror_mode": {
    "name": "ipython",
    "version": 3
   },
   "file_extension": ".py",
   "mimetype": "text/x-python",
   "name": "python",
   "nbconvert_exporter": "python",
   "pygments_lexer": "ipython3",
   "version": "3.7.3"
  }
 },
 "nbformat": 4,
 "nbformat_minor": 2
}
