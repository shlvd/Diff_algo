{
  "nbformat": 4,
  "nbformat_minor": 0,
  "metadata": {
    "colab": {
      "name": "union.ipynb",
      "provenance": []
    },
    "kernelspec": {
      "name": "python3",
      "display_name": "Python 3"
    }
  },
  "cells": [
    {
      "cell_type": "code",
      "metadata": {
        "id": "nHFDvGmWZC6n",
        "colab_type": "code",
        "colab": {}
      },
      "source": [
        "class UnionFind:\n",
        "    def __init__(self, n):\n",
        "        self._n = n\n",
        "        self._parent = [i for i in range(n)]\n",
        "        self._rank = [0 for _ in range(n)]\n",
        "\n",
        "    # Returns representative of the set with element x\n",
        "    def find(self, x):\n",
        "\n",
        "        # if x is not the parent of itelf\n",
        "        if(x != self._parent[x]):\n",
        "            # We recursively find the parent of x.\n",
        "            # And at each step back we optmize the data structure to hold\n",
        "            # each node along the path under the representative.\n",
        "            self._parent[x] = self.find(self._parent[x])\n",
        "\n",
        "        return self._parent[x]\n",
        "\n",
        "    def union(self, x, y):\n",
        "        # Find the root of x and y\n",
        "        (x_root, y_root) = (self.find(x), self.find(y))\n",
        "\n",
        "        # If the are part of same set, they are already connected.\n",
        "        if x_root == y_root:\n",
        "            return\n",
        "\n",
        "        # Move the node with lesser rank under the node with higher rank.\n",
        "        if self._rank[x_root] < self._rank[y_root]:\n",
        "            self._parent[x_root] = y_root\n",
        "        elif self._rank[y_root] < self._rank[x_root]:\n",
        "            self._parent[y_root] = x_root\n",
        "        else:\n",
        "            # If the rank is same, pick one representative and increment its rank.\n",
        "            self._parent[y_root] = x_root\n",
        "            self._rank[x_root] += 1\n",
        "\n",
        "    def __str__(self):\n",
        "        return str(self._parent)\n",
        "\n"
      ],
      "execution_count": 0,
      "outputs": []
    },
    {
      "cell_type": "code",
      "metadata": {
        "id": "9oZ2e9bdZC4u",
        "colab_type": "code",
        "colab": {
          "base_uri": "https://localhost:8080/",
          "height": 34
        },
        "outputId": "4ead0479-d3a6-4383-e850-d5c876e97b66"
      },
      "source": [
        "uf = UnionFind(4)\n",
        "print(\"Initial state: {}\".format(uf))"
      ],
      "execution_count": 10,
      "outputs": [
        {
          "output_type": "stream",
          "text": [
            "Initial state: [0, 1, 2, 3]\n"
          ],
          "name": "stdout"
        }
      ]
    },
    {
      "cell_type": "code",
      "metadata": {
        "id": "57GuK1UKZC1z",
        "colab_type": "code",
        "colab": {
          "base_uri": "https://localhost:8080/",
          "height": 34
        },
        "outputId": "e9ec4482-d32c-4107-f5ec-caa1401db735"
      },
      "source": [
        "uf.union(0, 3)\n",
        "print(\"State after union(0,3): {}\".format(uf))"
      ],
      "execution_count": 11,
      "outputs": [
        {
          "output_type": "stream",
          "text": [
            "State after union(0,3): [0, 1, 2, 0]\n"
          ],
          "name": "stdout"
        }
      ]
    },
    {
      "cell_type": "code",
      "metadata": {
        "id": "rHQdrvPCk3n0",
        "colab_type": "code",
        "colab": {
          "base_uri": "https://localhost:8080/",
          "height": 34
        },
        "outputId": "7aee4f98-504f-45bb-aeb8-3d5fe3549bad"
      },
      "source": [
        "uf.union(1, 2)\n",
        "print(\"State after union(1,2): {}\".format(uf))"
      ],
      "execution_count": 12,
      "outputs": [
        {
          "output_type": "stream",
          "text": [
            "State after union(1,2): [0, 1, 1, 0]\n"
          ],
          "name": "stdout"
        }
      ]
    },
    {
      "cell_type": "code",
      "metadata": {
        "id": "AB7Z4ZXdk3k4",
        "colab_type": "code",
        "colab": {
          "base_uri": "https://localhost:8080/",
          "height": 34
        },
        "outputId": "d7d639a5-e7b4-4edf-c1ed-4e85be86bed1"
      },
      "source": [
        "uf.union(3, 2)\n",
        "print(\"State after union(3, 2): {}\".format(uf))"
      ],
      "execution_count": 13,
      "outputs": [
        {
          "output_type": "stream",
          "text": [
            "State after union(3, 2): [0, 0, 1, 0]\n"
          ],
          "name": "stdout"
        }
      ]
    },
    {
      "cell_type": "code",
      "metadata": {
        "id": "S1mlzZF9lEXY",
        "colab_type": "code",
        "colab": {
          "base_uri": "https://localhost:8080/",
          "height": 51
        },
        "outputId": "71fee041-e59d-4733-c1be-049d4e0f2137"
      },
      "source": [
        "print(\"The representative of set having node 2 is: {}\".format(uf.find(2)))\n",
        "\n",
        "print(\"State after find(2): {}\".format(uf))"
      ],
      "execution_count": 14,
      "outputs": [
        {
          "output_type": "stream",
          "text": [
            "The representative of set having node 2 is: 0\n",
            "State after find(2): [0, 0, 0, 0]\n"
          ],
          "name": "stdout"
        }
      ]
    }
  ]
}