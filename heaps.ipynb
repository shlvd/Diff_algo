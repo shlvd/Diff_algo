{
 "cells": [
  {
   "cell_type": "code",
   "execution_count": 5,
   "metadata": {},
   "outputs": [
    {
     "data": {
      "text/plain": [
       "[1, 2, 3, 5, 6, 8, 7]"
      ]
     },
     "execution_count": 5,
     "metadata": {},
     "output_type": "execute_result"
    }
   ],
   "source": [
    "import heapq\n",
    "\n",
    "a = [3, 5, 1, 2, 6, 8, 7]\n",
    "heapq.heapify(a)\n",
    "a\n",
    " "
   ]
  },
  {
   "cell_type": "code",
   "execution_count": 8,
   "metadata": {},
   "outputs": [
    {
     "name": "stdout",
     "output_type": "stream",
     "text": [
      "(datetime.datetime(2024, 12, 27, 13, 27, 2, 498225), 'Fast email')\n",
      "(datetime.datetime(2024, 12, 27, 13, 42, 2, 498225), 'Fast email')\n",
      "(datetime.datetime(2024, 12, 27, 13, 52, 2, 498225), 'Slow email')\n",
      "(datetime.datetime(2024, 12, 27, 13, 57, 2, 498225), 'Fast email')\n",
      "(datetime.datetime(2024, 12, 27, 14, 12, 2, 498225), 'Fast email')\n",
      "(datetime.datetime(2024, 12, 27, 14, 27, 2, 498225), 'Fast email')\n",
      "(datetime.datetime(2024, 12, 27, 14, 32, 2, 498225), 'Slow email')\n",
      "(datetime.datetime(2024, 12, 27, 14, 42, 2, 498225), 'Fast email')\n",
      "(datetime.datetime(2024, 12, 27, 14, 57, 2, 498225), 'Fast email')\n",
      "(datetime.datetime(2024, 12, 27, 15, 12, 2, 498225), 'Fast email')\n"
     ]
    }
   ],
   "source": [
    "import heapq\n",
    "import datetime\n",
    "\n",
    "def email(frequency, details):\n",
    "    current_time = datetime.datetime.now()\n",
    "    while True:\n",
    "        current_time += frequency\n",
    "        yield current_time, details\n",
    "\n",
    "fast_email = email(datetime.timedelta(minutes=15), \"Fast email\")\n",
    "slow_email = email(datetime.timedelta(minutes=40), \"Slow email\")\n",
    "\n",
    "unified = heapq.merge(fast_email, slow_email)\n",
    "\n",
    "for _ in range(10):\n",
    "    print(next(unified))"
   ]
  },
  {
   "cell_type": "code",
   "execution_count": 9,
   "metadata": {},
   "outputs": [
    {
     "name": "stdout",
     "output_type": "stream",
     "text": [
      "Elaine Thompson          10.71\n",
      "Tori Bowie               10.83\n",
      "Marie-Josee Ta Lou       10.86\n"
     ]
    }
   ],
   "source": [
    "import heapq\n",
    "results=\"\"\"\\\n",
    "Christania Williams      11.80\n",
    "Marie-Josee Ta Lou       10.86\n",
    "Elaine Thompson          10.71\n",
    "Tori Bowie               10.83\n",
    "Shelly-Ann Fraser-Pryce  10.86\n",
    "English Gardner          10.94\n",
    "Michelle-Lee Ahye        10.92\n",
    "Dafne Schippers          10.90\n",
    "\"\"\"\n",
    "top_3 = heapq.nsmallest(\n",
    "     3, results.splitlines(), key=lambda x: float(x.split()[-1])\n",
    ")\n",
    "print(\"\\n\".join(top_3))"
   ]
  },
  {
   "cell_type": "code",
   "execution_count": 17,
   "metadata": {},
   "outputs": [],
   "source": [
    "map = \"\"\"\n",
    ".......X..\n",
    ".......X..\n",
    "....XXXX..\n",
    "..........\n",
    "..........\n",
    "\"\"\""
   ]
  },
  {
   "cell_type": "code",
   "execution_count": 19,
   "metadata": {},
   "outputs": [],
   "source": [
    "def parse_map(map):\n",
    "    lines = map.strip().splitlines()\n",
    "    origin = (0, 0)\n",
    "    destination = (len(lines[-1]) - 1, len(lines) - 1)\n",
    "    return lines, origin, destination\n",
    "\n",
    "def isvalid(lines, position):\n",
    "    x, y = position\n",
    "    if not (0 <= y < len(lines) and 0 <= x < len(lines[y])):\n",
    "        return False\n",
    "    if lines[y][x] == \"X\":\n",
    "        return False\n",
    "    return True\n",
    "\n",
    "def get_neighbors(lines, current):\n",
    "    x, y = current\n",
    "    for dx in [-1, 0, 1]:\n",
    "        for dy in [-1, 0, 1]:\n",
    "            if dx == 0 and dy == 0:\n",
    "                continue\n",
    "            position = (x + dx, y + dy)\n",
    "            if isvalid(lines, position):\n",
    "                yield position\n",
    "\n",
    "def get_shorter_paths(tentative, positions, through):\n",
    "    path = tentative[through] + [through]\n",
    "    for position in positions:\n",
    "        if position in tentative and len(tentative[position]) <= len(path):\n",
    "            continue\n",
    "            yield position, path\n",
    "\n",
    "def find_path(map):\n",
    "    lines, origin, destination = parse_map(map)\n",
    "    tentative = {origin: []}\n",
    "    candidates = [(0, origin)]\n",
    "    certain = set()\n",
    "    while destination not in certain and len(candidates) > 0:\n",
    "        _ignored, current = heapq.heappop(candidates)\n",
    "        if current in certain:\n",
    "            continue\n",
    "        certain.add(current)\n",
    "        neighbors = set(get_neighbors(lines, current)) - certain\n",
    "        shorter = get_shorter_paths(tentative, neighbors, current)\n",
    "        for neighbor, path in shorter:\n",
    "            tentative[neighbor] = path\n",
    "            heapq.heappush(candidates, (len(path), neighbor))\n",
    "    if destination in tentative:\n",
    "        return tentative[destination] + [destination]\n",
    "    else:\n",
    "        raise ValueError(\"no path\")"
   ]
  },
  {
   "cell_type": "code",
   "execution_count": 20,
   "metadata": {},
   "outputs": [],
   "source": [
    "def show_path(path, map):\n",
    "    lines = map.splitlines()\n",
    "    for x, y in path:\n",
    "        lines[y] = lines[y][:x] + \"@\" + lines[y][x + 1 :]\n",
    "    return \"\\n\".join(lines) + \"\\n\""
   ]
  },
  {
   "cell_type": "code",
   "execution_count": null,
   "metadata": {},
   "outputs": [],
   "source": [
    "path = find_path(map)\n",
    "print(show_path(path, map))\n"
   ]
  }
 ],
 "metadata": {
  "kernelspec": {
   "display_name": "Python 3",
   "language": "python",
   "name": "python3"
  },
  "language_info": {
   "codemirror_mode": {
    "name": "ipython",
    "version": 3
   },
   "file_extension": ".py",
   "mimetype": "text/x-python",
   "name": "python",
   "nbconvert_exporter": "python",
   "pygments_lexer": "ipython3",
   "version": "3.11.5"
  }
 },
 "nbformat": 4,
 "nbformat_minor": 2
}
